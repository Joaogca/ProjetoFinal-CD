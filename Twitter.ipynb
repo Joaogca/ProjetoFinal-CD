{
 "cells": [
  {
   "cell_type": "code",
   "execution_count": 1,
   "metadata": {},
   "outputs": [
    {
     "name": "stderr",
     "output_type": "stream",
     "text": [
      "C:\\Users\\Samuel\\Anaconda3\\lib\\site-packages\\statsmodels\\compat\\pandas.py:56: FutureWarning: The pandas.core.datetools module is deprecated and will be removed in a future version. Please use the pandas.tseries module instead.\n",
      "  from pandas.core import datetools\n"
     ]
    }
   ],
   "source": [
    "%matplotlib inline\n",
    "import matplotlib.pyplot as plt\n",
    "import seaborn as sns; sns.set()\n",
    "from sklearn import datasets, linear_model\n",
    "import numpy as np\n",
    "import pandas as pd\n",
    "from sklearn.metrics import mean_squared_error, r2_score\n",
    "import tweepy\n",
    "import json\n",
    "from bs4 import BeautifulSoup\n",
    "import requests\n",
    "from sklearn.model_selection import train_test_split\n",
    "import numpy as np\n",
    "import statsmodels.api as sm\n",
    "import matplotlib.pyplot as plt\n",
    "from mpl_toolkits.mplot3d import Axes3D\n",
    "\n",
    "import chardet\n",
    "import pandas as pd"
   ]
  },
  {
   "cell_type": "code",
   "execution_count": 37,
   "metadata": {},
   "outputs": [],
   "source": [
    "def arrumapreco(valor):  #função que retira todos os sinais(emocotions continuam)\n",
    "    if \"M\" in valor:\n",
    "        valor=valor.replace(\"M\",\"00000\")\n",
    "        valor=valor.replace(\"€\",\"\")\n",
    "        valor=valor.replace(\".\",\"\")\n",
    "    \n",
    "    else:\n",
    "        valor=valor.replace(\"K\",\"00\")\n",
    "        valor=valor.replace(\"€\",\"\")\n",
    "        valor=valor.replace(\".\",\"\")\n",
    "        \n",
    "    return int(valor)/1000000\n",
    "\n",
    "def updatecsv(listtwitter):\n",
    "    listaaux=[]\n",
    "    for i in range(len(listtwitter)):\n",
    "        listaaux.append(listtwitter[i][1])\n",
    "    df[\"Followers\"]=pd.Series(listaaux)\n",
    "    df.to_csv('Database\\CompleteDataset.csv',encoding=\"utf-8\",index=False)\n",
    "    \n",
    "def followers(user):\n",
    "    url = 'https://www.twitter.com/'+user\n",
    "    r = requests.get(url)\n",
    "    soup = BeautifulSoup(r.content,\"lxml\")\n",
    "\n",
    "    f = soup.find('li', class_=\"ProfileNav-item--followers\")\n",
    "    if f!=None:\n",
    "        title = f.find('a')['title']\n",
    "    else:\n",
    "        return 0\n",
    "\n",
    "    num_followers = title.split(' ')[0]\n",
    "    if '.' in num_followers:\n",
    "        num_followers = num_followers.replace('.','')\n",
    "    else:\n",
    "        num_followers = num_followers.replace(',','')\n",
    "    num_followers=int(num_followers)\n",
    "    print (num_followers)\n",
    "    return num_followers\n",
    "\n",
    "def numfollowersjog(df,listtwitter,qnts):\n",
    "    nomecontinua=listtwitter[-1][0]\n",
    "    indexcontinua=df.Name.values.tolist().index(nomecontinua)\n",
    "\n",
    "    salva=0\n",
    "    stop=0\n",
    "    for nome in df[\"Name\"][indexcontinua+1:]:\n",
    "        if stop>qnts:\n",
    "            return listtwitter\n",
    "        else:\n",
    "            stop+=1\n",
    "        print(nome)\n",
    "        #print(team)\n",
    "        search=\"\"\n",
    "        tsearch=\"\"\n",
    "        for i in nome.split():\n",
    "            search+=i+\"+\"\n",
    "\n",
    "        search=search[:-1]\n",
    "        tsearch=tsearch[:-1]\n",
    "        url = \"https://www.google.com.br/search?q=\"+search+\"+Twitter+Official\"\n",
    "        print(url)\n",
    "        #print()\n",
    "        r = requests.get(url)\n",
    "        soup = BeautifulSoup(r.content,\"lxml\")\n",
    "\n",
    "        a=soup.find_all('a')\n",
    "        #print(url)\n",
    "\n",
    "        for i in a:\n",
    "            string=str(i)\n",
    "        #print(string)\n",
    "\n",
    "            if \"twitter.com/\" in string and \"search\" not in string and '@' in string:      \n",
    "\n",
    "                twitter=string[string.find(\"@\"):].split()[0][:-1]\n",
    "                twitter=twitter.replace(\"</b>\",\"\")\n",
    "                twitter=twitter.replace(\"<b>\",\"\")\n",
    "                print(twitter)\n",
    "                a=followers(twitter)\n",
    "                listtwitter.append([nome,a,twitter])\n",
    "                break\n",
    "\n",
    "\n",
    "        print()\n",
    "\n",
    "def continua():\n",
    "    a=int(input(\"Digite o número de jogadores que serão adicionados no dataset com seus respectivos números de seguidores( digite -1 para rodar indefinidamente)\"))\n",
    "    a=2\n",
    "    df=pd.read_csv('Database\\CompleteDataset.csv',index_col=0)\n",
    "    df.Value=df.Value.apply(arrumapreco)\n",
    "    df=df[(df.Value>1)]\n",
    "    \n",
    "    listtwitter = json.loads(open(\"followers.txt\").read())\n",
    "    listtwitter=numfollowersjog(df,listtwitter,a)\n",
    "    \n",
    "    with open('Followers.txt', 'w') as outfile:\n",
    "        json.dump(listtwitter, outfile)\n",
    "        \n",
    "def exibir():\n",
    "    listtwitter = json.loads(open(\"followers.txt\").read())\n",
    "    dft=pd.DataFrame(listtwitter,columns=[\"Nome\",\"Seguidores\",\"Twitter\"])\n",
    "    print(dft)"
   ]
  },
  {
   "cell_type": "code",
   "execution_count": 40,
   "metadata": {},
   "outputs": [
    {
     "name": "stdout",
     "output_type": "stream",
     "text": [
      "Digite o número de jogadores que serão adicionados no dataset com seus respectivos números de seguidores( digite -1 para rodar indefinidamente)300\n"
     ]
    },
    {
     "name": "stderr",
     "output_type": "stream",
     "text": [
      "C:\\Users\\Samuel\\Anaconda3\\lib\\site-packages\\IPython\\core\\interactiveshell.py:2827: DtypeWarning: Columns (23,35) have mixed types. Specify dtype option on import or set low_memory=False.\n",
      "  if self.run_code(code, result):\n"
     ]
    },
    {
     "name": "stdout",
     "output_type": "stream",
     "text": [
      "G. Bale\n",
      "https://www.google.com.br/search?q=G.+Bale+Twitter+Official\n",
      "@GarethBale11\n",
      "15693471\n",
      "\n",
      "S. Agüero\n",
      "https://www.google.com.br/search?q=S.+Agüero+Twitter+Official\n",
      "@aguerosergiokun\n",
      "12496406\n",
      "\n",
      "G. Chiellini\n",
      "https://www.google.com.br/search?q=G.+Chiellini+Twitter+Official\n",
      "@chiellini\n",
      "2238709\n",
      "\n"
     ]
    }
   ],
   "source": [
    "continua()\n",
    "\n"
   ]
  },
  {
   "cell_type": "code",
   "execution_count": 39,
   "metadata": {},
   "outputs": [
    {
     "name": "stdout",
     "output_type": "stream",
     "text": [
      "                 Nome  Seguidores           Twitter\n",
      "0   Cristiano Ronaldo    64104546        @Cristiano\n",
      "1            L. Messi     1424743     @messi10stats\n",
      "2              Neymar    35163756         @neymarjr\n",
      "3           L. Suárez    12380660      @LuisSuarez9\n",
      "4            M. Neuer     4044705     @Manuel_Neuer\n",
      "5      R. Lewandowski      981411    @lewy_official\n",
      "6              De Gea     9572293          @D_DeGea\n",
      "7           E. Hazard     5168450     @hazardeden10\n",
      "8            T. Kroos     5892042        @ToniKroos\n",
      "9          G. Higuaín     6722354        @G_Higuain\n",
      "10       Sergio Ramos    13000835      @SergioRamos\n",
      "11       K. De Bruyne     1174837      @DeBruyneKev\n",
      "12        T. Courtois     1940293  @thibautcourtois\n",
      "13         A. Sánchez     2402543   @Alexis_Sanchez\n",
      "14          L. Modrić      435166     @lm19official\n"
     ]
    }
   ],
   "source": [
    "exibir() #Exibe a lista de twitter"
   ]
  },
  {
   "cell_type": "code",
   "execution_count": null,
   "metadata": {
    "collapsed": true
   },
   "outputs": [],
   "source": []
  },
  {
   "cell_type": "code",
   "execution_count": null,
   "metadata": {
    "collapsed": true
   },
   "outputs": [],
   "source": []
  }
 ],
 "metadata": {
  "kernelspec": {
   "display_name": "Python 3",
   "language": "python",
   "name": "python3"
  },
  "language_info": {
   "codemirror_mode": {
    "name": "ipython",
    "version": 3
   },
   "file_extension": ".py",
   "mimetype": "text/x-python",
   "name": "python",
   "nbconvert_exporter": "python",
   "pygments_lexer": "ipython3",
   "version": "3.6.1"
  }
 },
 "nbformat": 4,
 "nbformat_minor": 2
}
